{
 "cells": [
  {
   "cell_type": "code",
   "execution_count": 29,
   "id": "3c5f51a4",
   "metadata": {},
   "outputs": [],
   "source": [
    "import numpy as np\n",
    "import matplotlib"
   ]
  },
  {
   "cell_type": "code",
   "execution_count": 30,
   "id": "fd970bc9",
   "metadata": {},
   "outputs": [
    {
     "data": {
      "text/plain": [
       "device(type='cpu')"
      ]
     },
     "execution_count": 30,
     "metadata": {},
     "output_type": "execute_result"
    }
   ],
   "source": [
    "import torch\n",
    "from torch import nn, optim\n",
    "\n",
    "device = torch.device(\"cuda:0\" if torch.cuda.is_available() else \"cpu\")\n",
    "device"
   ]
  },
  {
   "cell_type": "markdown",
   "id": "cf6888ce",
   "metadata": {},
   "source": [
    "# Dataset & Dataloader"
   ]
  },
  {
   "cell_type": "code",
   "execution_count": 31,
   "id": "6347dda3",
   "metadata": {},
   "outputs": [],
   "source": [
    "from torchvision import datasets, transforms\n",
    "from torch.utils.data import DataLoader"
   ]
  },
  {
   "cell_type": "code",
   "execution_count": 72,
   "id": "e01f9a79",
   "metadata": {},
   "outputs": [],
   "source": [
    "# Image Augmentation\n",
    "transform = transforms.Compose([\n",
    "    transforms.Resize(70),\n",
    "    transforms.CenterCrop(64),\n",
    "    transforms.ToTensor()\n",
    "])\n",
    "\n",
    "train_set = datasets.ImageFolder(\"Covid19-dataset/train/\", transform=transform)\n",
    "trainloader = DataLoader(train_set, batch_size=64, shuffle=True, num_workers=2)\n",
    "\n",
    "test_set = datasets.ImageFolder(\"Covid19-dataset/test/\", transform=transform)\n",
    "testloader = DataLoader(test_set, batch_size=64, shuffle=True)"
   ]
  },
  {
   "cell_type": "markdown",
   "id": "ded332ab",
   "metadata": {},
   "source": [
    "# CNN Architecture"
   ]
  },
  {
   "cell_type": "code",
   "execution_count": 73,
   "id": "463d7caf",
   "metadata": {},
   "outputs": [],
   "source": [
    "class Classifier_CNN(nn.Module):\n",
    "    def __init__ (self):\n",
    "        super().__init__()\n",
    "        self.convolution = nn.Sequential(\n",
    "            nn.Conv2d(3, 8, 3, 1, 1),\n",
    "            nn.ReLU(),\n",
    "            nn.MaxPool2d(2, 2),\n",
    "            nn.Conv2d(8, 16, 3, 1, 1),\n",
    "            nn.ReLU(),\n",
    "            nn.MaxPool2d(2, 2),\n",
    "            nn.Conv2d(16, 32, 3, 1, 1),\n",
    "            nn.ReLU(),\n",
    "            nn.MaxPool2d(2, 2),\n",
    "            nn.Conv2d(32, 64, 3, 1, 1),\n",
    "            nn.ReLU(),\n",
    "            nn.MaxPool2d(2, 2),\n",
    "            nn.Conv2d(64, 128, 3, 1, 1),\n",
    "            nn.ReLU(),\n",
    "            nn.MaxPool2d(2, 2),\n",
    "            nn.Flatten()\n",
    "        )\n",
    "        \n",
    "        self.fully_connected = nn.Sequential(\n",
    "            nn.Linear(512, 256),\n",
    "            nn.ReLU(),\n",
    "            nn.Linear(256, 128),\n",
    "            nn.ReLU(),\n",
    "            nn.Linear(128, 2),\n",
    "            nn.LogSoftmax(1) \n",
    "        )\n",
    "        \n",
    "    def forward(self, x):\n",
    "        return self.fully_connected(self.convolution(x))"
   ]
  },
  {
   "cell_type": "markdown",
   "id": "af2a87f8",
   "metadata": {},
   "source": [
    "# Loss Function and Optimizer\n"
   ]
  },
  {
   "cell_type": "code",
   "execution_count": 74,
   "id": "21ff9529",
   "metadata": {},
   "outputs": [],
   "source": [
    "model = Classifier_CNN()\n",
    "criterion = nn.NLLLoss()\n",
    "optimizer = optim.AdamW(model.parameters(), lr=0.001)"
   ]
  },
  {
   "cell_type": "markdown",
   "id": "f56ddc41",
   "metadata": {},
   "source": [
    "# Training Loop"
   ]
  },
  {
   "cell_type": "code",
   "execution_count": 75,
   "id": "e68ff5d2",
   "metadata": {},
   "outputs": [
    {
     "name": "stdout",
     "output_type": "stream",
     "text": [
      "epoch: 1 dari 100\n",
      "epoch: 2 dari 100\n",
      "epoch: 3 dari 100\n",
      "epoch: 4 dari 100\n",
      "epoch: 5 dari 100\n",
      "epoch: 6 dari 100\n",
      "epoch: 7 dari 100\n",
      "epoch: 8 dari 100\n",
      "epoch: 9 dari 100\n",
      "epoch: 10 dari 100\n",
      "epoch: 11 dari 100\n",
      "epoch: 12 dari 100\n",
      "epoch: 13 dari 100\n",
      "epoch: 14 dari 100\n",
      "epoch: 15 dari 100\n",
      "epoch: 16 dari 100\n",
      "epoch: 17 dari 100\n",
      "epoch: 18 dari 100\n",
      "epoch: 19 dari 100\n",
      "epoch: 20 dari 100\n",
      "epoch: 21 dari 100\n",
      "epoch: 22 dari 100\n",
      "epoch: 23 dari 100\n",
      "epoch: 24 dari 100\n",
      "epoch: 25 dari 100\n",
      "epoch: 26 dari 100\n",
      "epoch: 27 dari 100\n",
      "epoch: 28 dari 100\n",
      "epoch: 29 dari 100\n",
      "epoch: 30 dari 100\n",
      "epoch: 31 dari 100\n",
      "epoch: 32 dari 100\n",
      "epoch: 33 dari 100\n",
      "epoch: 34 dari 100\n",
      "epoch: 35 dari 100\n",
      "epoch: 36 dari 100\n",
      "epoch: 37 dari 100\n",
      "epoch: 38 dari 100\n",
      "epoch: 39 dari 100\n",
      "epoch: 40 dari 100\n",
      "epoch: 41 dari 100\n",
      "epoch: 42 dari 100\n",
      "epoch: 43 dari 100\n",
      "epoch: 44 dari 100\n",
      "epoch: 45 dari 100\n",
      "epoch: 46 dari 100\n",
      "epoch: 47 dari 100\n",
      "epoch: 48 dari 100\n",
      "epoch: 49 dari 100\n",
      "epoch: 50 dari 100\n",
      "epoch: 51 dari 100\n",
      "epoch: 52 dari 100\n",
      "epoch: 53 dari 100\n",
      "epoch: 54 dari 100\n",
      "epoch: 55 dari 100\n",
      "epoch: 56 dari 100\n",
      "epoch: 57 dari 100\n",
      "epoch: 58 dari 100\n",
      "epoch: 59 dari 100\n",
      "epoch: 60 dari 100\n",
      "epoch: 61 dari 100\n",
      "epoch: 62 dari 100\n",
      "epoch: 63 dari 100\n",
      "epoch: 64 dari 100\n",
      "epoch: 65 dari 100\n",
      "epoch: 66 dari 100\n",
      "epoch: 67 dari 100\n",
      "epoch: 68 dari 100\n",
      "epoch: 69 dari 100\n",
      "epoch: 70 dari 100\n",
      "epoch: 71 dari 100\n",
      "epoch: 72 dari 100\n",
      "epoch: 73 dari 100\n",
      "epoch: 74 dari 100\n",
      "epoch: 75 dari 100\n",
      "epoch: 76 dari 100\n",
      "epoch: 77 dari 100\n",
      "epoch: 78 dari 100\n",
      "epoch: 79 dari 100\n",
      "epoch: 80 dari 100\n",
      "epoch: 81 dari 100\n",
      "epoch: 82 dari 100\n",
      "epoch: 83 dari 100\n",
      "epoch: 84 dari 100\n",
      "epoch: 85 dari 100\n",
      "epoch: 86 dari 100\n",
      "epoch: 87 dari 100\n",
      "epoch: 88 dari 100\n",
      "epoch: 89 dari 100\n",
      "epoch: 90 dari 100\n",
      "epoch: 91 dari 100\n",
      "epoch: 92 dari 100\n",
      "epoch: 93 dari 100\n",
      "epoch: 94 dari 100\n",
      "epoch: 95 dari 100\n",
      "epoch: 96 dari 100\n",
      "epoch: 97 dari 100\n",
      "epoch: 98 dari 100\n",
      "epoch: 99 dari 100\n",
      "epoch: 100 dari 100\n",
      " Finished Training\n"
     ]
    }
   ],
   "source": [
    "epochs = 100\n",
    "train_cost, test_cost = [], []\n",
    "for i in range (epochs):\n",
    "    model.train()\n",
    "    cost = 0\n",
    "    for feature, target in trainloader:\n",
    "        output = model(feature) #feed forward\n",
    "        loss = criterion(output, target)\n",
    "        loss.backward() #backprop\n",
    "        \n",
    "        optimizer.step() #update weight\n",
    "        optimizer.zero_grad()\n",
    "        \n",
    "        cost += loss.item() * feature.shape[0]\n",
    "    \n",
    "    train_cost.append(cost / len(train_set))\n",
    "    \n",
    "    with torch.no_grad():\n",
    "        model.eval()\n",
    "        cost = 0\n",
    "        for feature, target in testloader:\n",
    "            output = model(feature)\n",
    "            loss = criterion(output, target)\n",
    "            cost += loss.item() * feature.shape[0]\n",
    "    \n",
    "        test_cost.append(cost / len(test_set))\n",
    "    \n",
    "    \n",
    "    print(f\"\\repoch: {i+1} dari {epochs}\\n\", end=\" \")\n",
    "\n",
    "print('Finished Training')"
   ]
  },
  {
   "cell_type": "code",
   "execution_count": 80,
   "id": "5fca7869",
   "metadata": {},
   "outputs": [
    {
     "data": {
      "text/plain": [
       "<matplotlib.legend.Legend at 0x24bc3854c08>"
      ]
     },
     "execution_count": 80,
     "metadata": {},
     "output_type": "execute_result"
    },
    {
     "data": {
      "image/png": "[encoded data removed]",
      "text/plain": [
       "<Figure size 432x288 with 1 Axes>"
      ]
     },
     "metadata": {
      "needs_background": "light"
     },
     "output_type": "display_data"
    }
   ],
   "source": [
    "plt.plot(train_cost, 'r-', label=\"Train\")\n",
    "plt.plot(test_cost, 'b-', label=\"Test\")\n",
    "plt.xlabel(\"epoch\"); plt.ylabel(\"cost\"); plt.legend()"
   ]
  },
  {
   "cell_type": "markdown",
   "id": "7ec170b5",
   "metadata": {},
   "source": [
    "# Metric Evaluation"
   ]
  },
  {
   "cell_type": "code",
   "execution_count": 78,
   "id": "a5325c23",
   "metadata": {},
   "outputs": [
    {
     "name": "stdout",
     "output_type": "stream",
     "text": [
      "Accuracy of the model: 97 %\n"
     ]
    }
   ],
   "source": [
    "correct = 0\n",
    "total = 0\n",
    "\n",
    "with torch.no_grad():\n",
    "    for x,y in testloader:\n",
    "        images, labels = x.to(device),y.to(device)\n",
    "        \n",
    "        outputs = model(images.to(device))\n",
    "        \n",
    "        _, predicted = torch.max(outputs.data, 1)\n",
    "        total += labels.size(0)\n",
    "        correct += (predicted == labels).sum().item()\n",
    "\n",
    "print(f'Accuracy of the model: {100 * correct // total} %')"
   ]
  },
  {
   "cell_type": "code",
   "execution_count": null,
   "id": "234d1193",
   "metadata": {},
   "outputs": [],
   "source": []
  }
 ],
 "metadata": {
  "kernelspec": {
   "display_name": "Python [conda env:jcopdl]",
   "language": "python",
   "name": "conda-env-jcopdl-py"
  },
  "language_info": {
   "codemirror_mode": {
    "name": "ipython",
    "version": 3
   },
   "file_extension": ".py",
   "mimetype": "text/x-python",
   "name": "python",
   "nbconvert_exporter": "python",
   "pygments_lexer": "ipython3",
   "version": "3.7.6"
  },
  "varInspector": {
   "cols": {
    "lenName": 16,
    "lenType": 16,
    "lenVar": 40
   },
   "kernels_config": {
    "python": {
     "delete_cmd_postfix": "",
     "delete_cmd_prefix": "del ",
     "library": "var_list.py",
     "varRefreshCmd": "print(var_dic_list())"
    },
    "r": {
     "delete_cmd_postfix": ") ",
     "delete_cmd_prefix": "rm(",
     "library": "var_list.r",
     "varRefreshCmd": "cat(var_dic_list()) "
    }
   },
   "types_to_exclude": [
    "module",
    "function",
    "builtin_function_or_method",
    "instance",
    "_Feature"
   ],
   "window_display": false
  }
 },
 "nbformat": 4,
 "nbformat_minor": 5
}
